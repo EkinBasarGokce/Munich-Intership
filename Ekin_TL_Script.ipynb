{
 "cells": [
  {
   "cell_type": "markdown",
   "id": "462fb3fd",
   "metadata": {},
   "source": [
    "# Prosit Project Part III\n",
    "## 3. Tranfer Learning\n",
    "> ##### 3.a. Imports and Loading the trained model (from scratch)\n",
    "> ##### 3.b. Train specific layers of the base model with Dongxue Dataset (Training & Validation)\n",
    "> ##### 3.c. Test with the Dongxue Holdout\n",
    "> ##### 3.d. Report"
   ]
  },
  {
   "cell_type": "code",
   "execution_count": 1,
   "id": "27100ae6",
   "metadata": {},
   "outputs": [
    {
     "name": "stdout",
     "output_type": "stream",
     "text": [
      "Thu Oct 14 15:28:37 2021       \r\n",
      "+-----------------------------------------------------------------------------+\r\n",
      "| NVIDIA-SMI 440.64.00    Driver Version: 440.64.00    CUDA Version: 10.2     |\r\n",
      "|-------------------------------+----------------------+----------------------+\r\n",
      "| GPU  Name        Persistence-M| Bus-Id        Disp.A | Volatile Uncorr. ECC |\r\n",
      "| Fan  Temp  Perf  Pwr:Usage/Cap|         Memory-Usage | GPU-Util  Compute M. |\r\n",
      "|===============================+======================+======================|\r\n",
      "|   0  Tesla V100-SXM2...  On   | 00000035:03:00.0 Off |                    0 |\r\n",
      "| N/A   33C    P0    39W / 300W |      0MiB / 32510MiB |      0%      Default |\r\n",
      "+-------------------------------+----------------------+----------------------+\r\n",
      "                                                                               \r\n",
      "+-----------------------------------------------------------------------------+\r\n",
      "| Processes:                                                       GPU Memory |\r\n",
      "|  GPU       PID   Type   Process name                             Usage      |\r\n",
      "|=============================================================================|\r\n",
      "|  No running processes found                                                 |\r\n",
      "+-----------------------------------------------------------------------------+\r\n"
     ]
    }
   ],
   "source": [
    "!nvidia-smi"
   ]
  },
  {
   "cell_type": "markdown",
   "id": "d7be1680",
   "metadata": {},
   "source": [
    "### 3.a. Imports and Loading the trained model (from scratch)"
   ]
  },
  {
   "cell_type": "code",
   "execution_count": 2,
   "id": "dab85076",
   "metadata": {},
   "outputs": [],
   "source": [
    "import dlpro\n",
    "from dlpro import constants, data, eval, layers, models, pipelines, reports, utils\n",
    "import tensorflow as tf\n",
    "from dlpro.eval.rt_eval import delta95_metric\n",
    "from dlpro.eval.rt_eval import TimeDeltaMetric\n",
    "from dlpro.data.RetentionTimeDataset import RetentionTimeDataset\n",
    "from dlpro.models.prosit import PrositRetentionTimePredictor\n",
    "from dlpro.reports.RetentionTimeReport import RetentionTimeReport\n",
    "\n",
    "import matplotlib\n",
    "import matplotlib.pyplot as plt\n",
    "import numpy as np\n",
    "import pandas as pd\n",
    "from sklearn.metrics import r2_score\n",
    "from matplotlib.offsetbox import AnchoredText\n",
    "# from matplotlib.backends.backend_pdf import PdfPages\n",
    "\n",
    "%matplotlib inline\n",
    "\n",
    "# Wassim's density plot requirements\n",
    "from matplotlib.colors import LogNorm\n",
    "from matplotlib.ticker import LogLocator\n",
    "\n",
    "# Saving the history as dict and pandas df\n",
    "import pickle"
   ]
  },
  {
   "cell_type": "code",
   "execution_count": 9,
   "id": "38d4648c",
   "metadata": {},
   "outputs": [],
   "source": [
    "def density_plot(predictions, experimental, header = \"title\", nbins = 1000):\n",
    "    \n",
    "    matplotlib.rcParams[\"axes.titlepad\"] = 25\n",
    "    matplotlib.rcParams[\"axes.labelpad\"] = 10\n",
    "    \n",
    "    df = pd.DataFrame({\"predictions\" : np.ravel(predictions), \"test_targets\" : np.ravel(experimental)})\n",
    "\n",
    "    H, xedges, yedges = np.histogram2d(df[\"predictions\"],df[\"test_targets\"], bins=nbins) # df[x] yerine df[\"predictions\"] kullan, predictions -> x yerine\n",
    "    H = np.rot90(H)\n",
    "    H = np.flipud(H)\n",
    "    Hmasked = np.ma.masked_where(H==0,H) \n",
    "    cm = plt.cm.get_cmap('RdYlBu')\n",
    "    \n",
    "    plt.figure(figsize = (7,10))    \n",
    "    plt.pcolormesh(xedges, yedges, Hmasked, cmap = cm, norm = LogNorm(1e0,1e1))\n",
    "    \n",
    "    plt.xlabel(\"iRT (measured)\", fontsize = 20)  # part is excluded:\"\\n Epochs : {}\\n{}\\n{}\".format(len(Histdf), report_str_1,report_str_2)\n",
    "    plt.ylabel(\"iRT (predicted)\",  fontsize = 20)\n",
    "    plt.title(header, fontsize = 24)\n",
    "    \n",
    "    cbar = plt.colorbar( ticks = LogLocator(subs = range(10)))\n",
    "    cbar.ax.set_ylabel('Counts', fontsize = 20)\n",
    "    cbar.ax.tick_params(labelsize = 20)\n",
    "    cbar.ax.minorticks_on()\n",
    "    \n",
    "    a = np.percentile(np.abs(df[\"predictions\"] - df[\"test_targets\"]), 95)\n",
    "    b = np.mean(np.abs(df[\"predictions\"] - df[\"test_targets\"]))\n",
    "    \n",
    "    plt.text(-2,109,\"R-squared = {:.3f}\\nn = {:3d}\\nDelta 95 = {:.3f}\\nMean Error = {:.3f}\".format(r2_score(df[\"test_targets\"], df[\"predictions\"]) , len(df[\"test_targets\"]), a, b), \n",
    "             fontsize = 14, bbox = dict(facecolor = \"m\", alpha = 0.3, boxstyle = \"round\"))\n",
    "    \n",
    "    plt.plot([0, 120], [0, 120], ls = \"--\", linewidth = \"2\", color = \"black\", label= \"Diagonal\") \n",
    "    # plt.plot([0, 120], [3, 123], color = \"black\", label= \"upper 95%\")\n",
    "    # plt.plot([0, 120], [-3, 117], color = \"green\", label= \"lower 95%\")\n",
    "    plt.legend(loc=4, prop={\"size\": 14})\n",
    "    \n",
    "    plt.savefig(\"./Ekin_plots/{} Density Plot.png\".format(header), bbox_inches=\"tight\", pad_inches = 1, dpi = 300, transparent= None)"
   ]
  },
  {
   "cell_type": "code",
   "execution_count": 3,
   "id": "8327c1d8",
   "metadata": {},
   "outputs": [],
   "source": [
    "SEQ_LENGTH = 30"
   ]
  },
  {
   "cell_type": "code",
   "execution_count": 5,
   "id": "e545e32f",
   "metadata": {},
   "outputs": [],
   "source": [
    "TL_TRAIN_DATAPATH = \"/scratch/dongxue_tissue_0.01FDR/dongxue_P013129_irt_train_data.csv\"\n",
    "DONGXUE_TEST_DATAPATH = \"/scratch/dongxue_tissue_0.01FDR/dongxue_P013129_irt_holdout_data.csv\"\n",
    "\n",
    "rtdata = RetentionTimeDataset(data_source=TL_TRAIN_DATAPATH,\n",
    "                              pad_length=SEQ_LENGTH, batch_size=1024, val_ratio=0.25, test=False, sample_run=False)\n",
    "\n",
    "test_rtdata = RetentionTimeDataset(data_source = DONGXUE_TEST_DATAPATH,\n",
    "                              pad_length=30, batch_size=64, test=True)"
   ]
  },
  {
   "cell_type": "code",
   "execution_count": 6,
   "id": "45cffa71",
   "metadata": {},
   "outputs": [],
   "source": [
    "weights_file_path = \"transfer_learning\" \n",
    "loss_format = \"{val_loss:.5f}\"\n",
    "epoch_format = \"{epoch:02d}\"\n",
    "weights_file = \"{}/weight_{}_{}\".format(\n",
    "    weights_file_path, epoch_format, loss_format\n",
    ")\n",
    "\n",
    "checkpoint = tf.keras.callbacks.ModelCheckpoint(weights_file, save_best_only=True, save_weights_only=True)\n",
    "decay = tf.keras.callbacks.ReduceLROnPlateau(monitor=\"val_loss\", factor=0.1, patience=3, verbose=1, min_lr=0)\n",
    "early_stop = tf.keras.callbacks.EarlyStopping(patience=10)\n",
    "callbacks = [checkpoint, early_stop, decay]"
   ]
  },
  {
   "cell_type": "markdown",
   "id": "0604db77",
   "metadata": {},
   "source": [
    "### 3.b. Freeze & Training"
   ]
  },
  {
   "cell_type": "code",
   "execution_count": 7,
   "id": "30442810",
   "metadata": {},
   "outputs": [],
   "source": [
    "tl_model = PrositRetentionTimePredictor(seq_length = SEQ_LENGTH)"
   ]
  },
  {
   "cell_type": "code",
   "execution_count": 8,
   "id": "9903fc2e",
   "metadata": {},
   "outputs": [
    {
     "data": {
      "text/plain": [
       "<tensorflow.python.training.tracking.util.CheckpointLoadStatus at 0x7ffe4a227650>"
      ]
     },
     "execution_count": 8,
     "metadata": {},
     "output_type": "execute_result"
    }
   ],
   "source": [
    "tl_model.load_weights(\"./prosit_ekin_training_best_checkpoint\")"
   ]
  },
  {
   "cell_type": "code",
   "execution_count": 9,
   "id": "4ddeb64f",
   "metadata": {},
   "outputs": [],
   "source": [
    "deneme_predictions = tl_model.predict(test_rtdata.test_data)"
   ]
  },
  {
   "cell_type": "code",
   "execution_count": 10,
   "id": "6cef696f",
   "metadata": {},
   "outputs": [],
   "source": [
    "deneme_predictions = deneme_predictions.ravel()"
   ]
  },
  {
   "cell_type": "code",
   "execution_count": 11,
   "id": "497b1142",
   "metadata": {},
   "outputs": [],
   "source": [
    "deneme_predictions = rtdata.denormalize_targets(deneme_predictions)"
   ]
  },
  {
   "cell_type": "code",
   "execution_count": 12,
   "id": "a93072c6",
   "metadata": {},
   "outputs": [],
   "source": [
    "deneme_test_targets = test_rtdata.get_split_targets(split=\"test\")"
   ]
  },
  {
   "cell_type": "code",
   "execution_count": 2,
   "id": "841e4cc8",
   "metadata": {},
   "outputs": [],
   "source": []
  },
  {
   "cell_type": "code",
   "execution_count": 14,
   "id": "2102dbd5",
   "metadata": {
    "collapsed": true
   },
   "outputs": [
    {
     "data": {
      "image/png": "[encoded data removed]",
      "text/plain": [
       "<Figure size 504x720 with 2 Axes>"
      ]
     },
     "metadata": {
      "needs_background": "light"
     },
     "output_type": "display_data"
    }
   ],
   "source": [
    "density_plot(deneme_predictions,deneme_test_targets,header=\"deneme density\")"
   ]
  },
  {
   "cell_type": "code",
   "execution_count": 37,
   "id": "6ec8f097",
   "metadata": {
    "collapsed": true
   },
   "outputs": [
    {
     "name": "stdout",
     "output_type": "stream",
     "text": [
      "Model: \"prosit_retention_time_predictor\"\n",
      "_________________________________________________________________\n",
      "Layer (type)                 Output Shape              Param #   \n",
      "=================================================================\n",
      "string_lookup (StringLookup) multiple                  0         \n",
      "_________________________________________________________________\n",
      "embedding (Embedding)        multiple                  352       \n",
      "_________________________________________________________________\n",
      "sequential (Sequential)      (None, 30, 512)           1996800   \n",
      "_________________________________________________________________\n",
      "attention_layer (AttentionLa multiple                  542       \n",
      "_________________________________________________________________\n",
      "sequential_1 (Sequential)    (None, 512)               262656    \n",
      "_________________________________________________________________\n",
      "dense_1 (Dense)              multiple                  513       \n",
      "=================================================================\n",
      "Total params: 2,260,863\n",
      "Trainable params: 262,656\n",
      "Non-trainable params: 1,998,207\n",
      "_________________________________________________________________\n"
     ]
    }
   ],
   "source": [
    "tl_model.summary()"
   ]
  },
  {
   "cell_type": "code",
   "execution_count": 16,
   "id": "b65d25a2",
   "metadata": {},
   "outputs": [],
   "source": [
    "layers = tl_model.layers"
   ]
  },
  {
   "cell_type": "code",
   "execution_count": 35,
   "id": "53cc68da",
   "metadata": {},
   "outputs": [],
   "source": [
    "n = 4"
   ]
  },
  {
   "cell_type": "code",
   "execution_count": 36,
   "id": "be833912",
   "metadata": {},
   "outputs": [
    {
     "name": "stdout",
     "output_type": "stream",
     "text": [
      "name: <tensorflow.python.keras.engine.sequential.Sequential object at 0x7ffe5127eb90>\n",
      "weights: 2\n",
      "trainable_weights: 2\n",
      "non_trainable_weights: 0\n"
     ]
    }
   ],
   "source": [
    "print(\"name:\",layers[n])\n",
    "print(\"weights:\", len(layers[n].weights))\n",
    "print(\"trainable_weights:\", len(layers[n].trainable_weights))\n",
    "print(\"non_trainable_weights:\", len(layers[n].non_trainable_weights))"
   ]
  },
  {
   "cell_type": "code",
   "execution_count": 26,
   "id": "7fc51711",
   "metadata": {},
   "outputs": [],
   "source": [
    "for i in range(0,6):\n",
    "    tl_model.layers[i].trainable = False "
   ]
  },
  {
   "cell_type": "code",
   "execution_count": 27,
   "id": "c8e1ab93",
   "metadata": {},
   "outputs": [],
   "source": [
    "tl_model.layers[4].trainable = True"
   ]
  },
  {
   "cell_type": "code",
   "execution_count": 38,
   "id": "c139d495",
   "metadata": {},
   "outputs": [],
   "source": [
    "optimizer = tf.keras.optimizers.Adam(lr=0.0001, decay=1e-7)"
   ]
  },
  {
   "cell_type": "code",
   "execution_count": 39,
   "id": "31f10ef2",
   "metadata": {},
   "outputs": [],
   "source": [
    "tl_model.compile(optimizer=\"adam\", \n",
    "              loss=\"mean_squared_error\",\n",
    "              metrics=[\"mean_absolute_error\", TimeDeltaMetric(rtdata.data_mean, rtdata.data_std)]) "
   ]
  },
  {
   "cell_type": "code",
   "execution_count": 40,
   "id": "56c30fde",
   "metadata": {
    "collapsed": true
   },
   "outputs": [
    {
     "name": "stdout",
     "output_type": "stream",
     "text": [
      "Epoch 1/100\n",
      "184/184 [==============================] - 45s 225ms/step - loss: 0.5957 - mean_absolute_error: 0.4713 - timedelta: 28.6280 - val_loss: 0.4578 - val_mean_absolute_error: 0.3718 - val_timedelta: 21.9202\n",
      "Epoch 2/100\n",
      "184/184 [==============================] - 40s 218ms/step - loss: 0.4483 - mean_absolute_error: 0.3676 - timedelta: 22.6736 - val_loss: 0.4062 - val_mean_absolute_error: 0.3446 - val_timedelta: 20.3969\n",
      "Epoch 3/100\n",
      "184/184 [==============================] - 41s 221ms/step - loss: 0.4065 - mean_absolute_error: 0.3479 - timedelta: 21.3092 - val_loss: 0.3849 - val_mean_absolute_error: 0.3416 - val_timedelta: 20.3818\n",
      "Epoch 4/100\n",
      "184/184 [==============================] - 41s 221ms/step - loss: 0.3886 - mean_absolute_error: 0.3460 - timedelta: 20.4137 - val_loss: 0.3752 - val_mean_absolute_error: 0.3448 - val_timedelta: 20.6000\n",
      "Epoch 5/100\n",
      "184/184 [==============================] - 41s 221ms/step - loss: 0.3795 - mean_absolute_error: 0.3485 - timedelta: 20.3041 - val_loss: 0.3706 - val_mean_absolute_error: 0.3489 - val_timedelta: 20.8300\n",
      "Epoch 6/100\n",
      "184/184 [==============================] - 40s 219ms/step - loss: 0.3749 - mean_absolute_error: 0.3517 - timedelta: 20.0501 - val_loss: 0.3683 - val_mean_absolute_error: 0.3524 - val_timedelta: 20.9798\n",
      "Epoch 7/100\n",
      "184/184 [==============================] - 40s 219ms/step - loss: 0.3728 - mean_absolute_error: 0.3550 - timedelta: 19.5839 - val_loss: 0.3669 - val_mean_absolute_error: 0.3550 - val_timedelta: 21.1046\n",
      "Epoch 8/100\n",
      "184/184 [==============================] - 41s 221ms/step - loss: 0.3715 - mean_absolute_error: 0.3572 - timedelta: 20.1299 - val_loss: 0.3661 - val_mean_absolute_error: 0.3566 - val_timedelta: 21.2046\n",
      "Epoch 9/100\n",
      "184/184 [==============================] - 40s 217ms/step - loss: 0.3707 - mean_absolute_error: 0.3585 - timedelta: 19.8996 - val_loss: 0.3654 - val_mean_absolute_error: 0.3577 - val_timedelta: 21.2660\n",
      "Epoch 10/100\n",
      "184/184 [==============================] - 40s 219ms/step - loss: 0.3698 - mean_absolute_error: 0.3590 - timedelta: 19.5240 - val_loss: 0.3648 - val_mean_absolute_error: 0.3583 - val_timedelta: 21.3183\n",
      "Epoch 11/100\n",
      "184/184 [==============================] - 41s 224ms/step - loss: 0.3695 - mean_absolute_error: 0.3598 - timedelta: 19.8605 - val_loss: 0.3643 - val_mean_absolute_error: 0.3586 - val_timedelta: 21.3594\n",
      "Epoch 12/100\n",
      "184/184 [==============================] - 41s 221ms/step - loss: 0.3687 - mean_absolute_error: 0.3600 - timedelta: 19.9456 - val_loss: 0.3638 - val_mean_absolute_error: 0.3588 - val_timedelta: 21.3838\n",
      "Epoch 13/100\n",
      "184/184 [==============================] - 41s 224ms/step - loss: 0.3682 - mean_absolute_error: 0.3601 - timedelta: 20.3124 - val_loss: 0.3634 - val_mean_absolute_error: 0.3588 - val_timedelta: 21.4084\n",
      "Epoch 14/100\n",
      "184/184 [==============================] - 40s 219ms/step - loss: 0.3675 - mean_absolute_error: 0.3601 - timedelta: 19.5842 - val_loss: 0.3631 - val_mean_absolute_error: 0.3589 - val_timedelta: 21.4238\n",
      "Epoch 15/100\n",
      "184/184 [==============================] - 41s 220ms/step - loss: 0.3681 - mean_absolute_error: 0.3605 - timedelta: 19.6349 - val_loss: 0.3627 - val_mean_absolute_error: 0.3587 - val_timedelta: 21.4273\n",
      "Epoch 16/100\n",
      "184/184 [==============================] - 40s 219ms/step - loss: 0.3671 - mean_absolute_error: 0.3602 - timedelta: 19.7255 - val_loss: 0.3624 - val_mean_absolute_error: 0.3586 - val_timedelta: 21.4297\n",
      "Epoch 17/100\n",
      "184/184 [==============================] - 41s 220ms/step - loss: 0.3663 - mean_absolute_error: 0.3600 - timedelta: 19.5275 - val_loss: 0.3620 - val_mean_absolute_error: 0.3586 - val_timedelta: 21.4293\n",
      "Epoch 18/100\n",
      "184/184 [==============================] - 42s 226ms/step - loss: 0.3669 - mean_absolute_error: 0.3602 - timedelta: 19.8173 - val_loss: 0.3617 - val_mean_absolute_error: 0.3585 - val_timedelta: 21.4269\n",
      "Epoch 19/100\n",
      "184/184 [==============================] - 41s 220ms/step - loss: 0.3664 - mean_absolute_error: 0.3600 - timedelta: 19.5828 - val_loss: 0.3614 - val_mean_absolute_error: 0.3584 - val_timedelta: 21.4232\n",
      "Epoch 20/100\n",
      "184/184 [==============================] - 41s 222ms/step - loss: 0.3662 - mean_absolute_error: 0.3601 - timedelta: 19.6524 - val_loss: 0.3611 - val_mean_absolute_error: 0.3582 - val_timedelta: 21.4166\n",
      "Epoch 21/100\n",
      "184/184 [==============================] - 40s 217ms/step - loss: 0.3659 - mean_absolute_error: 0.3600 - timedelta: 19.7176 - val_loss: 0.3608 - val_mean_absolute_error: 0.3580 - val_timedelta: 21.4122\n",
      "Epoch 22/100\n",
      "184/184 [==============================] - 41s 220ms/step - loss: 0.3655 - mean_absolute_error: 0.3599 - timedelta: 19.7198 - val_loss: 0.3605 - val_mean_absolute_error: 0.3579 - val_timedelta: 21.4086\n",
      "Epoch 23/100\n",
      "184/184 [==============================] - 41s 225ms/step - loss: 0.3649 - mean_absolute_error: 0.3595 - timedelta: 19.9791 - val_loss: 0.3602 - val_mean_absolute_error: 0.3577 - val_timedelta: 21.3999\n",
      "Epoch 24/100\n",
      "184/184 [==============================] - 41s 221ms/step - loss: 0.3647 - mean_absolute_error: 0.3593 - timedelta: 19.7668 - val_loss: 0.3600 - val_mean_absolute_error: 0.3577 - val_timedelta: 21.3989\n",
      "Epoch 25/100\n",
      "184/184 [==============================] - 40s 219ms/step - loss: 0.3640 - mean_absolute_error: 0.3594 - timedelta: 19.8259 - val_loss: 0.3597 - val_mean_absolute_error: 0.3576 - val_timedelta: 21.3935\n",
      "Epoch 26/100\n",
      "184/184 [==============================] - 41s 221ms/step - loss: 0.3641 - mean_absolute_error: 0.3593 - timedelta: 19.8474 - val_loss: 0.3594 - val_mean_absolute_error: 0.3574 - val_timedelta: 21.3817\n",
      "Epoch 27/100\n",
      "184/184 [==============================] - 41s 221ms/step - loss: 0.3634 - mean_absolute_error: 0.3590 - timedelta: 20.2638 - val_loss: 0.3592 - val_mean_absolute_error: 0.3572 - val_timedelta: 21.3712\n",
      "Epoch 28/100\n",
      "184/184 [==============================] - 40s 217ms/step - loss: 0.3635 - mean_absolute_error: 0.3589 - timedelta: 19.7488 - val_loss: 0.3589 - val_mean_absolute_error: 0.3570 - val_timedelta: 21.3661\n",
      "Epoch 29/100\n",
      "184/184 [==============================] - 40s 218ms/step - loss: 0.3630 - mean_absolute_error: 0.3588 - timedelta: 19.6705 - val_loss: 0.3587 - val_mean_absolute_error: 0.3568 - val_timedelta: 21.3538\n",
      "Epoch 30/100\n",
      "184/184 [==============================] - 41s 221ms/step - loss: 0.3629 - mean_absolute_error: 0.3585 - timedelta: 19.6200 - val_loss: 0.3585 - val_mean_absolute_error: 0.3568 - val_timedelta: 21.3504\n",
      "Epoch 31/100\n",
      "184/184 [==============================] - 41s 222ms/step - loss: 0.3627 - mean_absolute_error: 0.3586 - timedelta: 19.8215 - val_loss: 0.3582 - val_mean_absolute_error: 0.3567 - val_timedelta: 21.3401\n",
      "Epoch 32/100\n",
      "184/184 [==============================] - 41s 221ms/step - loss: 0.3628 - mean_absolute_error: 0.3586 - timedelta: 19.3182 - val_loss: 0.3580 - val_mean_absolute_error: 0.3565 - val_timedelta: 21.3248\n",
      "Epoch 33/100\n",
      "184/184 [==============================] - 40s 219ms/step - loss: 0.3624 - mean_absolute_error: 0.3584 - timedelta: 20.1649 - val_loss: 0.3578 - val_mean_absolute_error: 0.3563 - val_timedelta: 21.3116\n",
      "Epoch 34/100\n",
      "184/184 [==============================] - 40s 219ms/step - loss: 0.3625 - mean_absolute_error: 0.3585 - timedelta: 19.6494 - val_loss: 0.3576 - val_mean_absolute_error: 0.3561 - val_timedelta: 21.2983\n",
      "Epoch 35/100\n",
      "184/184 [==============================] - 40s 216ms/step - loss: 0.3616 - mean_absolute_error: 0.3579 - timedelta: 19.6745 - val_loss: 0.3574 - val_mean_absolute_error: 0.3560 - val_timedelta: 21.2901\n",
      "Epoch 36/100\n",
      "184/184 [==============================] - 41s 220ms/step - loss: 0.3615 - mean_absolute_error: 0.3580 - timedelta: 19.4804 - val_loss: 0.3572 - val_mean_absolute_error: 0.3559 - val_timedelta: 21.2817\n",
      "Epoch 37/100\n",
      "184/184 [==============================] - 41s 220ms/step - loss: 0.3614 - mean_absolute_error: 0.3578 - timedelta: 19.7075 - val_loss: 0.3570 - val_mean_absolute_error: 0.3557 - val_timedelta: 21.2687\n",
      "Epoch 38/100\n",
      "184/184 [==============================] - 41s 223ms/step - loss: 0.3614 - mean_absolute_error: 0.3579 - timedelta: 19.2675 - val_loss: 0.3568 - val_mean_absolute_error: 0.3555 - val_timedelta: 21.2538\n",
      "Epoch 39/100\n",
      "184/184 [==============================] - 41s 221ms/step - loss: 0.3613 - mean_absolute_error: 0.3577 - timedelta: 19.8816 - val_loss: 0.3566 - val_mean_absolute_error: 0.3555 - val_timedelta: 21.2480\n",
      "Epoch 40/100\n",
      "184/184 [==============================] - 41s 222ms/step - loss: 0.3611 - mean_absolute_error: 0.3576 - timedelta: 19.2718 - val_loss: 0.3564 - val_mean_absolute_error: 0.3553 - val_timedelta: 21.2408\n",
      "Epoch 41/100\n",
      "184/184 [==============================] - 41s 222ms/step - loss: 0.3609 - mean_absolute_error: 0.3575 - timedelta: 19.1369 - val_loss: 0.3562 - val_mean_absolute_error: 0.3552 - val_timedelta: 21.2323\n",
      "Epoch 42/100\n",
      "184/184 [==============================] - 40s 220ms/step - loss: 0.3604 - mean_absolute_error: 0.3572 - timedelta: 19.5817 - val_loss: 0.3560 - val_mean_absolute_error: 0.3551 - val_timedelta: 21.2270\n",
      "Epoch 43/100\n",
      "184/184 [==============================] - 41s 221ms/step - loss: 0.3605 - mean_absolute_error: 0.3573 - timedelta: 19.6217 - val_loss: 0.3558 - val_mean_absolute_error: 0.3549 - val_timedelta: 21.2193\n",
      "Epoch 44/100\n",
      "184/184 [==============================] - 41s 222ms/step - loss: 0.3602 - mean_absolute_error: 0.3572 - timedelta: 18.9373 - val_loss: 0.3557 - val_mean_absolute_error: 0.3548 - val_timedelta: 21.2136\n",
      "Epoch 45/100\n",
      "184/184 [==============================] - 40s 219ms/step - loss: 0.3604 - mean_absolute_error: 0.3574 - timedelta: 19.6884 - val_loss: 0.3555 - val_mean_absolute_error: 0.3547 - val_timedelta: 21.2114\n",
      "Epoch 46/100\n",
      "184/184 [==============================] - 41s 222ms/step - loss: 0.3600 - mean_absolute_error: 0.3570 - timedelta: 19.4492 - val_loss: 0.3553 - val_mean_absolute_error: 0.3547 - val_timedelta: 21.2080\n",
      "Epoch 47/100\n",
      "184/184 [==============================] - 40s 218ms/step - loss: 0.3599 - mean_absolute_error: 0.3572 - timedelta: 19.2790 - val_loss: 0.3552 - val_mean_absolute_error: 0.3545 - val_timedelta: 21.1983\n",
      "Epoch 48/100\n",
      "184/184 [==============================] - 40s 219ms/step - loss: 0.3597 - mean_absolute_error: 0.3568 - timedelta: 19.0975 - val_loss: 0.3550 - val_mean_absolute_error: 0.3543 - val_timedelta: 21.1911\n",
      "Epoch 49/100\n",
      "184/184 [==============================] - 41s 222ms/step - loss: 0.3593 - mean_absolute_error: 0.3568 - timedelta: 19.5770 - val_loss: 0.3548 - val_mean_absolute_error: 0.3541 - val_timedelta: 21.1858\n",
      "Epoch 50/100\n",
      "184/184 [==============================] - 41s 224ms/step - loss: 0.3592 - mean_absolute_error: 0.3567 - timedelta: 19.5045 - val_loss: 0.3547 - val_mean_absolute_error: 0.3540 - val_timedelta: 21.1840\n",
      "Epoch 51/100\n",
      "184/184 [==============================] - 40s 219ms/step - loss: 0.3596 - mean_absolute_error: 0.3568 - timedelta: 19.7260 - val_loss: 0.3545 - val_mean_absolute_error: 0.3540 - val_timedelta: 21.1862\n",
      "Epoch 52/100\n",
      "184/184 [==============================] - 41s 223ms/step - loss: 0.3591 - mean_absolute_error: 0.3568 - timedelta: 18.9095 - val_loss: 0.3544 - val_mean_absolute_error: 0.3539 - val_timedelta: 21.1811\n",
      "Epoch 53/100\n",
      "184/184 [==============================] - 41s 220ms/step - loss: 0.3591 - mean_absolute_error: 0.3563 - timedelta: 19.3149 - val_loss: 0.3542 - val_mean_absolute_error: 0.3536 - val_timedelta: 21.1652\n",
      "Epoch 54/100\n",
      "184/184 [==============================] - 41s 222ms/step - loss: 0.3595 - mean_absolute_error: 0.3565 - timedelta: 19.9283 - val_loss: 0.3541 - val_mean_absolute_error: 0.3535 - val_timedelta: 21.1660\n",
      "Epoch 55/100\n",
      "184/184 [==============================] - 41s 222ms/step - loss: 0.3590 - mean_absolute_error: 0.3564 - timedelta: 19.0241 - val_loss: 0.3540 - val_mean_absolute_error: 0.3535 - val_timedelta: 21.1648\n",
      "Epoch 56/100\n",
      "184/184 [==============================] - 41s 222ms/step - loss: 0.3584 - mean_absolute_error: 0.3561 - timedelta: 19.1448 - val_loss: 0.3539 - val_mean_absolute_error: 0.3533 - val_timedelta: 21.1606\n",
      "Epoch 57/100\n",
      "184/184 [==============================] - 41s 221ms/step - loss: 0.3581 - mean_absolute_error: 0.3561 - timedelta: 19.1320 - val_loss: 0.3537 - val_mean_absolute_error: 0.3532 - val_timedelta: 21.1553\n",
      "Epoch 58/100\n",
      "184/184 [==============================] - 41s 223ms/step - loss: 0.3590 - mean_absolute_error: 0.3562 - timedelta: 19.4675 - val_loss: 0.3536 - val_mean_absolute_error: 0.3533 - val_timedelta: 21.1571\n",
      "Epoch 59/100\n",
      "184/184 [==============================] - 40s 217ms/step - loss: 0.3587 - mean_absolute_error: 0.3560 - timedelta: 19.2302 - val_loss: 0.3535 - val_mean_absolute_error: 0.3531 - val_timedelta: 21.1489\n",
      "Epoch 60/100\n",
      "184/184 [==============================] - 40s 217ms/step - loss: 0.3576 - mean_absolute_error: 0.3559 - timedelta: 19.9045 - val_loss: 0.3534 - val_mean_absolute_error: 0.3530 - val_timedelta: 21.1402\n",
      "Epoch 61/100\n",
      "184/184 [==============================] - 40s 218ms/step - loss: 0.3574 - mean_absolute_error: 0.3555 - timedelta: 19.0370 - val_loss: 0.3532 - val_mean_absolute_error: 0.3530 - val_timedelta: 21.1391\n",
      "Epoch 62/100\n",
      "184/184 [==============================] - 41s 224ms/step - loss: 0.3581 - mean_absolute_error: 0.3559 - timedelta: 19.1325 - val_loss: 0.3531 - val_mean_absolute_error: 0.3529 - val_timedelta: 21.1293\n",
      "Epoch 63/100\n",
      "184/184 [==============================] - 41s 221ms/step - loss: 0.3577 - mean_absolute_error: 0.3557 - timedelta: 19.3329 - val_loss: 0.3530 - val_mean_absolute_error: 0.3527 - val_timedelta: 21.1223\n",
      "Epoch 64/100\n",
      "184/184 [==============================] - 41s 221ms/step - loss: 0.3578 - mean_absolute_error: 0.3557 - timedelta: 19.2208 - val_loss: 0.3529 - val_mean_absolute_error: 0.3527 - val_timedelta: 21.1187\n",
      "Epoch 65/100\n",
      "184/184 [==============================] - 41s 221ms/step - loss: 0.3579 - mean_absolute_error: 0.3557 - timedelta: 18.9209 - val_loss: 0.3528 - val_mean_absolute_error: 0.3525 - val_timedelta: 21.1093\n",
      "Epoch 66/100\n",
      "184/184 [==============================] - 40s 219ms/step - loss: 0.3573 - mean_absolute_error: 0.3555 - timedelta: 18.5468 - val_loss: 0.3527 - val_mean_absolute_error: 0.3524 - val_timedelta: 21.1029\n",
      "Epoch 67/100\n",
      "184/184 [==============================] - 40s 219ms/step - loss: 0.3573 - mean_absolute_error: 0.3554 - timedelta: 18.7364 - val_loss: 0.3526 - val_mean_absolute_error: 0.3524 - val_timedelta: 21.0982\n",
      "Epoch 68/100\n",
      "184/184 [==============================] - 40s 219ms/step - loss: 0.3575 - mean_absolute_error: 0.3556 - timedelta: 19.0243 - val_loss: 0.3525 - val_mean_absolute_error: 0.3523 - val_timedelta: 21.0877\n",
      "Epoch 69/100\n",
      "184/184 [==============================] - 41s 221ms/step - loss: 0.3578 - mean_absolute_error: 0.3553 - timedelta: 19.1439 - val_loss: 0.3524 - val_mean_absolute_error: 0.3521 - val_timedelta: 21.0767\n",
      "Epoch 70/100\n",
      "184/184 [==============================] - 41s 222ms/step - loss: 0.3569 - mean_absolute_error: 0.3551 - timedelta: 18.8642 - val_loss: 0.3523 - val_mean_absolute_error: 0.3521 - val_timedelta: 21.0729\n",
      "Epoch 71/100\n",
      "184/184 [==============================] - 40s 219ms/step - loss: 0.3570 - mean_absolute_error: 0.3550 - timedelta: 18.9603 - val_loss: 0.3522 - val_mean_absolute_error: 0.3520 - val_timedelta: 21.0694\n",
      "Epoch 72/100\n",
      "184/184 [==============================] - 40s 218ms/step - loss: 0.3566 - mean_absolute_error: 0.3549 - timedelta: 18.9709 - val_loss: 0.3521 - val_mean_absolute_error: 0.3519 - val_timedelta: 21.0611\n",
      "Epoch 73/100\n",
      "184/184 [==============================] - 41s 221ms/step - loss: 0.3573 - mean_absolute_error: 0.3552 - timedelta: 19.0917 - val_loss: 0.3520 - val_mean_absolute_error: 0.3518 - val_timedelta: 21.0543\n",
      "Epoch 74/100\n",
      "184/184 [==============================] - 41s 220ms/step - loss: 0.3566 - mean_absolute_error: 0.3548 - timedelta: 19.3985 - val_loss: 0.3520 - val_mean_absolute_error: 0.3517 - val_timedelta: 21.0420\n",
      "Epoch 75/100\n",
      "184/184 [==============================] - 41s 221ms/step - loss: 0.3565 - mean_absolute_error: 0.3547 - timedelta: 19.3973 - val_loss: 0.3519 - val_mean_absolute_error: 0.3516 - val_timedelta: 21.0360\n",
      "Epoch 76/100\n",
      "184/184 [==============================] - 41s 221ms/step - loss: 0.3567 - mean_absolute_error: 0.3549 - timedelta: 19.0031 - val_loss: 0.3518 - val_mean_absolute_error: 0.3517 - val_timedelta: 21.0415\n",
      "Epoch 77/100\n"
     ]
    },
    {
     "name": "stdout",
     "output_type": "stream",
     "text": [
      "184/184 [==============================] - 40s 217ms/step - loss: 0.3568 - mean_absolute_error: 0.3550 - timedelta: 18.8777 - val_loss: 0.3517 - val_mean_absolute_error: 0.3514 - val_timedelta: 21.0158\n",
      "Epoch 78/100\n",
      "184/184 [==============================] - 41s 220ms/step - loss: 0.3562 - mean_absolute_error: 0.3545 - timedelta: 19.0461 - val_loss: 0.3516 - val_mean_absolute_error: 0.3514 - val_timedelta: 21.0132\n",
      "Epoch 79/100\n",
      "184/184 [==============================] - 41s 220ms/step - loss: 0.3564 - mean_absolute_error: 0.3546 - timedelta: 19.2337 - val_loss: 0.3516 - val_mean_absolute_error: 0.3512 - val_timedelta: 21.0060\n",
      "Epoch 80/100\n",
      "184/184 [==============================] - 40s 218ms/step - loss: 0.3560 - mean_absolute_error: 0.3544 - timedelta: 19.5203 - val_loss: 0.3515 - val_mean_absolute_error: 0.3514 - val_timedelta: 21.0179\n",
      "Epoch 81/100\n",
      "184/184 [==============================] - 40s 218ms/step - loss: 0.3560 - mean_absolute_error: 0.3547 - timedelta: 18.6828 - val_loss: 0.3514 - val_mean_absolute_error: 0.3512 - val_timedelta: 21.0037\n",
      "Epoch 82/100\n",
      "184/184 [==============================] - 40s 217ms/step - loss: 0.3561 - mean_absolute_error: 0.3544 - timedelta: 19.4878 - val_loss: 0.3513 - val_mean_absolute_error: 0.3511 - val_timedelta: 20.9956\n",
      "Epoch 83/100\n",
      "184/184 [==============================] - 41s 223ms/step - loss: 0.3561 - mean_absolute_error: 0.3544 - timedelta: 19.3836 - val_loss: 0.3512 - val_mean_absolute_error: 0.3510 - val_timedelta: 20.9913\n",
      "Epoch 84/100\n",
      "184/184 [==============================] - 40s 216ms/step - loss: 0.3558 - mean_absolute_error: 0.3543 - timedelta: 19.0731 - val_loss: 0.3512 - val_mean_absolute_error: 0.3510 - val_timedelta: 20.9900\n",
      "Epoch 85/100\n",
      "184/184 [==============================] - 41s 223ms/step - loss: 0.3567 - mean_absolute_error: 0.3545 - timedelta: 18.9760 - val_loss: 0.3511 - val_mean_absolute_error: 0.3509 - val_timedelta: 20.9819\n",
      "Epoch 86/100\n",
      "184/184 [==============================] - 40s 217ms/step - loss: 0.3558 - mean_absolute_error: 0.3544 - timedelta: 19.5239 - val_loss: 0.3510 - val_mean_absolute_error: 0.3509 - val_timedelta: 20.9826\n",
      "Epoch 87/100\n",
      "184/184 [==============================] - 41s 220ms/step - loss: 0.3560 - mean_absolute_error: 0.3544 - timedelta: 19.4264 - val_loss: 0.3510 - val_mean_absolute_error: 0.3508 - val_timedelta: 20.9768\n",
      "Epoch 88/100\n",
      "184/184 [==============================] - 40s 218ms/step - loss: 0.3561 - mean_absolute_error: 0.3544 - timedelta: 19.1651 - val_loss: 0.3509 - val_mean_absolute_error: 0.3507 - val_timedelta: 20.9720\n",
      "Epoch 89/100\n",
      "184/184 [==============================] - 41s 221ms/step - loss: 0.3556 - mean_absolute_error: 0.3541 - timedelta: 19.4575 - val_loss: 0.3508 - val_mean_absolute_error: 0.3506 - val_timedelta: 20.9684\n",
      "Epoch 90/100\n",
      "184/184 [==============================] - 41s 221ms/step - loss: 0.3554 - mean_absolute_error: 0.3541 - timedelta: 18.8428 - val_loss: 0.3508 - val_mean_absolute_error: 0.3505 - val_timedelta: 20.9597\n",
      "Epoch 91/100\n",
      "184/184 [==============================] - 41s 220ms/step - loss: 0.3557 - mean_absolute_error: 0.3539 - timedelta: 19.2214 - val_loss: 0.3507 - val_mean_absolute_error: 0.3505 - val_timedelta: 20.9585\n",
      "Epoch 92/100\n",
      "184/184 [==============================] - 40s 219ms/step - loss: 0.3556 - mean_absolute_error: 0.3540 - timedelta: 19.6841 - val_loss: 0.3506 - val_mean_absolute_error: 0.3503 - val_timedelta: 20.9503\n",
      "Epoch 93/100\n",
      "184/184 [==============================] - 41s 222ms/step - loss: 0.3555 - mean_absolute_error: 0.3540 - timedelta: 18.4634 - val_loss: 0.3506 - val_mean_absolute_error: 0.3503 - val_timedelta: 20.9462\n",
      "Epoch 94/100\n",
      "184/184 [==============================] - 42s 226ms/step - loss: 0.3555 - mean_absolute_error: 0.3539 - timedelta: 18.8009 - val_loss: 0.3505 - val_mean_absolute_error: 0.3502 - val_timedelta: 20.9393\n",
      "Epoch 95/100\n",
      "184/184 [==============================] - 41s 225ms/step - loss: 0.3557 - mean_absolute_error: 0.3539 - timedelta: 19.3854 - val_loss: 0.3504 - val_mean_absolute_error: 0.3502 - val_timedelta: 20.9408\n",
      "Epoch 96/100\n",
      "184/184 [==============================] - 40s 219ms/step - loss: 0.3555 - mean_absolute_error: 0.3540 - timedelta: 19.5200 - val_loss: 0.3504 - val_mean_absolute_error: 0.3501 - val_timedelta: 20.9310\n",
      "Epoch 97/100\n",
      "184/184 [==============================] - 40s 219ms/step - loss: 0.3554 - mean_absolute_error: 0.3537 - timedelta: 19.2647 - val_loss: 0.3503 - val_mean_absolute_error: 0.3502 - val_timedelta: 20.9316\n",
      "Epoch 98/100\n",
      "184/184 [==============================] - 40s 220ms/step - loss: 0.3550 - mean_absolute_error: 0.3537 - timedelta: 19.3207 - val_loss: 0.3503 - val_mean_absolute_error: 0.3501 - val_timedelta: 20.9249\n",
      "Epoch 99/100\n",
      "184/184 [==============================] - 41s 220ms/step - loss: 0.3550 - mean_absolute_error: 0.3538 - timedelta: 19.2079 - val_loss: 0.3502 - val_mean_absolute_error: 0.3501 - val_timedelta: 20.9224\n",
      "Epoch 100/100\n",
      "184/184 [==============================] - 40s 219ms/step - loss: 0.3549 - mean_absolute_error: 0.3538 - timedelta: 18.9408 - val_loss: 0.3502 - val_mean_absolute_error: 0.3500 - val_timedelta: 20.9134\n"
     ]
    }
   ],
   "source": [
    "tl_model_history = tl_model.fit(rtdata.train_data, validation_data=rtdata.val_data, \n",
    "                                       epochs=100, callbacks=callbacks)"
   ]
  },
  {
   "cell_type": "code",
   "execution_count": 43,
   "id": "66cb33ac",
   "metadata": {},
   "outputs": [],
   "source": [
    "# save the history as a data frame in a .csv file for further use, if possible\n",
    "pd.DataFrame.from_dict(tl_model_history.history).to_csv(\"./TransferLearningHistoryDataFrame\",index=False)"
   ]
  },
  {
   "cell_type": "code",
   "execution_count": 44,
   "id": "7e54e149",
   "metadata": {},
   "outputs": [],
   "source": [
    "Histdf = pd.read_csv(\"./TransferLearningHistoryDataFrame\")"
   ]
  },
  {
   "cell_type": "code",
   "execution_count": 45,
   "id": "97901154",
   "metadata": {
    "collapsed": true
   },
   "outputs": [
    {
     "data": {
      "text/html": [
       "<div>\n",
       "<style scoped>\n",
       "    .dataframe tbody tr th:only-of-type {\n",
       "        vertical-align: middle;\n",
       "    }\n",
       "\n",
       "    .dataframe tbody tr th {\n",
       "        vertical-align: top;\n",
       "    }\n",
       "\n",
       "    .dataframe thead th {\n",
       "        text-align: right;\n",
       "    }\n",
       "</style>\n",
       "<table border=\"1\" class=\"dataframe\">\n",
       "  <thead>\n",
       "    <tr style=\"text-align: right;\">\n",
       "      <th></th>\n",
       "      <th>loss</th>\n",
       "      <th>mean_absolute_error</th>\n",
       "      <th>timedelta</th>\n",
       "      <th>val_loss</th>\n",
       "      <th>val_mean_absolute_error</th>\n",
       "      <th>val_timedelta</th>\n",
       "      <th>lr</th>\n",
       "    </tr>\n",
       "  </thead>\n",
       "  <tbody>\n",
       "    <tr>\n",
       "      <th>0</th>\n",
       "      <td>0.536024</td>\n",
       "      <td>0.429812</td>\n",
       "      <td>25.206453</td>\n",
       "      <td>0.457846</td>\n",
       "      <td>0.371804</td>\n",
       "      <td>21.920204</td>\n",
       "      <td>1.000000e-06</td>\n",
       "    </tr>\n",
       "    <tr>\n",
       "      <th>1</th>\n",
       "      <td>0.431772</td>\n",
       "      <td>0.358885</td>\n",
       "      <td>21.023905</td>\n",
       "      <td>0.406228</td>\n",
       "      <td>0.344631</td>\n",
       "      <td>20.396906</td>\n",
       "      <td>1.000000e-06</td>\n",
       "    </tr>\n",
       "    <tr>\n",
       "      <th>2</th>\n",
       "      <td>0.398608</td>\n",
       "      <td>0.345507</td>\n",
       "      <td>19.885168</td>\n",
       "      <td>0.384901</td>\n",
       "      <td>0.341643</td>\n",
       "      <td>20.381754</td>\n",
       "      <td>1.000000e-06</td>\n",
       "    </tr>\n",
       "    <tr>\n",
       "      <th>3</th>\n",
       "      <td>0.383403</td>\n",
       "      <td>0.345028</td>\n",
       "      <td>19.087523</td>\n",
       "      <td>0.375219</td>\n",
       "      <td>0.344762</td>\n",
       "      <td>20.600004</td>\n",
       "      <td>1.000000e-06</td>\n",
       "    </tr>\n",
       "    <tr>\n",
       "      <th>4</th>\n",
       "      <td>0.376200</td>\n",
       "      <td>0.348063</td>\n",
       "      <td>18.979904</td>\n",
       "      <td>0.370604</td>\n",
       "      <td>0.348854</td>\n",
       "      <td>20.830034</td>\n",
       "      <td>1.000000e-06</td>\n",
       "    </tr>\n",
       "    <tr>\n",
       "      <th>...</th>\n",
       "      <td>...</td>\n",
       "      <td>...</td>\n",
       "      <td>...</td>\n",
       "      <td>...</td>\n",
       "      <td>...</td>\n",
       "      <td>...</td>\n",
       "      <td>...</td>\n",
       "    </tr>\n",
       "    <tr>\n",
       "      <th>95</th>\n",
       "      <td>0.354512</td>\n",
       "      <td>0.352766</td>\n",
       "      <td>18.280090</td>\n",
       "      <td>0.350390</td>\n",
       "      <td>0.350131</td>\n",
       "      <td>20.931007</td>\n",
       "      <td>1.000000e-06</td>\n",
       "    </tr>\n",
       "    <tr>\n",
       "      <th>96</th>\n",
       "      <td>0.354299</td>\n",
       "      <td>0.352507</td>\n",
       "      <td>18.191059</td>\n",
       "      <td>0.350329</td>\n",
       "      <td>0.350187</td>\n",
       "      <td>20.931606</td>\n",
       "      <td>1.000000e-06</td>\n",
       "    </tr>\n",
       "    <tr>\n",
       "      <th>97</th>\n",
       "      <td>0.354264</td>\n",
       "      <td>0.352610</td>\n",
       "      <td>18.195196</td>\n",
       "      <td>0.350273</td>\n",
       "      <td>0.350085</td>\n",
       "      <td>20.924921</td>\n",
       "      <td>1.000000e-06</td>\n",
       "    </tr>\n",
       "    <tr>\n",
       "      <th>98</th>\n",
       "      <td>0.354337</td>\n",
       "      <td>0.352720</td>\n",
       "      <td>18.212605</td>\n",
       "      <td>0.350216</td>\n",
       "      <td>0.350081</td>\n",
       "      <td>20.922382</td>\n",
       "      <td>1.000000e-06</td>\n",
       "    </tr>\n",
       "    <tr>\n",
       "      <th>99</th>\n",
       "      <td>0.354113</td>\n",
       "      <td>0.352584</td>\n",
       "      <td>18.100576</td>\n",
       "      <td>0.350162</td>\n",
       "      <td>0.349955</td>\n",
       "      <td>20.913406</td>\n",
       "      <td>1.000000e-06</td>\n",
       "    </tr>\n",
       "  </tbody>\n",
       "</table>\n",
       "<p>100 rows × 7 columns</p>\n",
       "</div>"
      ],
      "text/plain": [
       "        loss  mean_absolute_error  timedelta  val_loss  \\\n",
       "0   0.536024             0.429812  25.206453  0.457846   \n",
       "1   0.431772             0.358885  21.023905  0.406228   \n",
       "2   0.398608             0.345507  19.885168  0.384901   \n",
       "3   0.383403             0.345028  19.087523  0.375219   \n",
       "4   0.376200             0.348063  18.979904  0.370604   \n",
       "..       ...                  ...        ...       ...   \n",
       "95  0.354512             0.352766  18.280090  0.350390   \n",
       "96  0.354299             0.352507  18.191059  0.350329   \n",
       "97  0.354264             0.352610  18.195196  0.350273   \n",
       "98  0.354337             0.352720  18.212605  0.350216   \n",
       "99  0.354113             0.352584  18.100576  0.350162   \n",
       "\n",
       "    val_mean_absolute_error  val_timedelta            lr  \n",
       "0                  0.371804      21.920204  1.000000e-06  \n",
       "1                  0.344631      20.396906  1.000000e-06  \n",
       "2                  0.341643      20.381754  1.000000e-06  \n",
       "3                  0.344762      20.600004  1.000000e-06  \n",
       "4                  0.348854      20.830034  1.000000e-06  \n",
       "..                      ...            ...           ...  \n",
       "95                 0.350131      20.931007  1.000000e-06  \n",
       "96                 0.350187      20.931606  1.000000e-06  \n",
       "97                 0.350085      20.924921  1.000000e-06  \n",
       "98                 0.350081      20.922382  1.000000e-06  \n",
       "99                 0.349955      20.913406  1.000000e-06  \n",
       "\n",
       "[100 rows x 7 columns]"
      ]
     },
     "execution_count": 45,
     "metadata": {},
     "output_type": "execute_result"
    }
   ],
   "source": [
    "Histdf"
   ]
  },
  {
   "cell_type": "code",
   "execution_count": 46,
   "id": "d3c12e6e",
   "metadata": {},
   "outputs": [],
   "source": [
    "add_to_report = Histdf.iloc[[-1]]"
   ]
  },
  {
   "cell_type": "code",
   "execution_count": 47,
   "id": "519ae46d",
   "metadata": {},
   "outputs": [],
   "source": [
    "first_three = add_to_report[[\"loss\", \"mean_absolute_error\",\"timedelta\"]]"
   ]
  },
  {
   "cell_type": "code",
   "execution_count": 48,
   "id": "c3dd0e35",
   "metadata": {},
   "outputs": [],
   "source": [
    "last_three = add_to_report[[\"val_loss\", \"val_mean_absolute_error\",\"val_timedelta\"]]"
   ]
  },
  {
   "cell_type": "code",
   "execution_count": 49,
   "id": "862fb35c",
   "metadata": {},
   "outputs": [],
   "source": [
    "report_str_1 = first_three.to_string(index = False)"
   ]
  },
  {
   "cell_type": "code",
   "execution_count": 50,
   "id": "e2c70294",
   "metadata": {},
   "outputs": [],
   "source": [
    "report_str_2 = last_three.to_string(index = False)"
   ]
  },
  {
   "cell_type": "code",
   "execution_count": 51,
   "id": "dd60fdad",
   "metadata": {},
   "outputs": [
    {
     "name": "stdout",
     "output_type": "stream",
     "text": [
      "Epochs: 100 \n",
      "    loss  mean_absolute_error  timedelta\n",
      "0.354113             0.352584  18.100576\n",
      " val_loss  val_mean_absolute_error  val_timedelta\n",
      " 0.350162                 0.349955      20.913406\n"
     ]
    }
   ],
   "source": [
    "print(\"Epochs:\",len(Histdf),\"\\n{}\\n{}\".format(report_str_1, report_str_2))"
   ]
  },
  {
   "cell_type": "code",
   "execution_count": null,
   "id": "2c7af1fd",
   "metadata": {},
   "outputs": [],
   "source": []
  },
  {
   "cell_type": "markdown",
   "id": "eae6bd3c",
   "metadata": {},
   "source": [
    "### 3.c. Test with the Dongxue Holdout"
   ]
  },
  {
   "cell_type": "code",
   "execution_count": 77,
   "id": "c2191751",
   "metadata": {},
   "outputs": [],
   "source": [
    "tl_predictions = tl_model.predict(test_rtdata.test_data)"
   ]
  },
  {
   "cell_type": "code",
   "execution_count": 78,
   "id": "8d617af8",
   "metadata": {},
   "outputs": [],
   "source": [
    "tl_predictions = tl_predictions.ravel()"
   ]
  },
  {
   "cell_type": "code",
   "execution_count": 79,
   "id": "015f15ac",
   "metadata": {},
   "outputs": [],
   "source": [
    "tl_predictions = rtdata.denormalize_targets(tl_predictions)"
   ]
  },
  {
   "cell_type": "code",
   "execution_count": 80,
   "id": "550d02d3",
   "metadata": {},
   "outputs": [
    {
     "data": {
      "text/plain": [
       "array([50.072346, 17.37009 , 67.80155 , ..., 82.55119 , 57.229103,\n",
       "       32.658768], dtype=float32)"
      ]
     },
     "execution_count": 80,
     "metadata": {},
     "output_type": "execute_result"
    }
   ],
   "source": [
    "tl_predictions"
   ]
  },
  {
   "cell_type": "code",
   "execution_count": 81,
   "id": "636321d6",
   "metadata": {},
   "outputs": [],
   "source": [
    "test_targets = test_rtdata.get_split_targets(split=\"test\")"
   ]
  },
  {
   "cell_type": "code",
   "execution_count": 82,
   "id": "46f9c5d8",
   "metadata": {},
   "outputs": [
    {
     "data": {
      "text/plain": [
       "array([51.864, 18.743, 74.705, ..., 78.172, 62.335, 28.386])"
      ]
     },
     "execution_count": 82,
     "metadata": {},
     "output_type": "execute_result"
    }
   ],
   "source": [
    "test_targets"
   ]
  },
  {
   "cell_type": "code",
   "execution_count": 3,
   "id": "e6a44513",
   "metadata": {
    "collapsed": true
   },
   "outputs": [
    {
     "ename": "NameError",
     "evalue": "name 'tl_predictions' is not defined",
     "output_type": "error",
     "traceback": [
      "\u001b[0;31m\u001b[0m",
      "\u001b[0;31mNameError\u001b[0mTraceback (most recent call last)",
      "\u001b[0;32m<ipython-input-3-59aa20ef1fb5>\u001b[0m in \u001b[0;36m<module>\u001b[0;34m\u001b[0m\n\u001b[0;32m----> 1\u001b[0;31m \u001b[0mdensity_plot\u001b[0m\u001b[0;34m(\u001b[0m\u001b[0mtl_predictions\u001b[0m\u001b[0;34m,\u001b[0m \u001b[0mtest_targets\u001b[0m\u001b[0;34m,\u001b[0m \u001b[0mheader\u001b[0m \u001b[0;34m=\u001b[0m \u001b[0;34m\"Transfer Learning Model Test with Dongxue Holdout\\n(sequential_1 layer only)\"\u001b[0m\u001b[0;34m)\u001b[0m\u001b[0;34m\u001b[0m\u001b[0;34m\u001b[0m\u001b[0m\n\u001b[0m",
      "\u001b[0;31mNameError\u001b[0m: name 'tl_predictions' is not defined"
     ]
    }
   ],
   "source": [
    "density_plot(tl_predictions, test_targets, header = \"Transfer Learning Model Test with Dongxue Holdout\\n(sequential_1 layer only)\")"
   ]
  },
  {
   "cell_type": "markdown",
   "id": "783126da",
   "metadata": {},
   "source": [
    "### Troubleshooting for abnormal predictions"
   ]
  },
  {
   "cell_type": "code",
   "execution_count": 117,
   "id": "73a37f6b",
   "metadata": {},
   "outputs": [],
   "source": [
    "test_sequences = test_rtdata.sequences "
   ]
  },
  {
   "cell_type": "code",
   "execution_count": 118,
   "id": "a3aab587",
   "metadata": {},
   "outputs": [
    {
     "data": {
      "text/plain": [
       "array(['GVIPPEVGNVAVR', 'YPKEDSEIR', 'WQPLYLEIR', ...,\n",
       "       'IYPTVNCQPLGMISLMK', 'DGMSHLIQSAGLGGLK', 'SGEVFDKDLCK'],\n",
       "      dtype=object)"
      ]
     },
     "execution_count": 118,
     "metadata": {},
     "output_type": "execute_result"
    }
   ],
   "source": [
    "test_sequences"
   ]
  },
  {
   "cell_type": "code",
   "execution_count": 98,
   "id": "63d1398c",
   "metadata": {},
   "outputs": [],
   "source": [
    "df = pd.DataFrame({\"dongxue_sequences\":test_sequences,\"dongxue_pred\":tl_predictions, \"dongxue_exp\":test_targets})"
   ]
  },
  {
   "cell_type": "code",
   "execution_count": 99,
   "id": "a7ca2b5e",
   "metadata": {
    "collapsed": true
   },
   "outputs": [
    {
     "data": {
      "text/html": [
       "<div>\n",
       "<style scoped>\n",
       "    .dataframe tbody tr th:only-of-type {\n",
       "        vertical-align: middle;\n",
       "    }\n",
       "\n",
       "    .dataframe tbody tr th {\n",
       "        vertical-align: top;\n",
       "    }\n",
       "\n",
       "    .dataframe thead th {\n",
       "        text-align: right;\n",
       "    }\n",
       "</style>\n",
       "<table border=\"1\" class=\"dataframe\">\n",
       "  <thead>\n",
       "    <tr style=\"text-align: right;\">\n",
       "      <th></th>\n",
       "      <th>dongxue_sequences</th>\n",
       "      <th>dongxue_pred</th>\n",
       "      <th>dongxue_exp</th>\n",
       "    </tr>\n",
       "  </thead>\n",
       "  <tbody>\n",
       "    <tr>\n",
       "      <th>0</th>\n",
       "      <td>GVIPPEVGNVAVR</td>\n",
       "      <td>50.072346</td>\n",
       "      <td>51.864</td>\n",
       "    </tr>\n",
       "    <tr>\n",
       "      <th>1</th>\n",
       "      <td>YPKEDSEIR</td>\n",
       "      <td>17.370090</td>\n",
       "      <td>18.743</td>\n",
       "    </tr>\n",
       "    <tr>\n",
       "      <th>2</th>\n",
       "      <td>WQPLYLEIR</td>\n",
       "      <td>67.801552</td>\n",
       "      <td>74.705</td>\n",
       "    </tr>\n",
       "    <tr>\n",
       "      <th>3</th>\n",
       "      <td>AELAHSPLPAK</td>\n",
       "      <td>25.757629</td>\n",
       "      <td>25.874</td>\n",
       "    </tr>\n",
       "    <tr>\n",
       "      <th>4</th>\n",
       "      <td>DGSDPYQEPK</td>\n",
       "      <td>16.412926</td>\n",
       "      <td>20.151</td>\n",
       "    </tr>\n",
       "    <tr>\n",
       "      <th>...</th>\n",
       "      <td>...</td>\n",
       "      <td>...</td>\n",
       "      <td>...</td>\n",
       "    </tr>\n",
       "    <tr>\n",
       "      <th>62565</th>\n",
       "      <td>ASITSSASLWHHCEHR</td>\n",
       "      <td>33.030495</td>\n",
       "      <td>26.392</td>\n",
       "    </tr>\n",
       "    <tr>\n",
       "      <th>62566</th>\n",
       "      <td>QHLVEAETWAWGAGHGGQGR</td>\n",
       "      <td>42.248253</td>\n",
       "      <td>28.812</td>\n",
       "    </tr>\n",
       "    <tr>\n",
       "      <th>62567</th>\n",
       "      <td>IYPTVNCQPLGMISLMK</td>\n",
       "      <td>82.551193</td>\n",
       "      <td>78.172</td>\n",
       "    </tr>\n",
       "    <tr>\n",
       "      <th>62568</th>\n",
       "      <td>DGMSHLIQSAGLGGLK</td>\n",
       "      <td>57.229103</td>\n",
       "      <td>62.335</td>\n",
       "    </tr>\n",
       "    <tr>\n",
       "      <th>62569</th>\n",
       "      <td>SGEVFDKDLCK</td>\n",
       "      <td>32.658768</td>\n",
       "      <td>28.386</td>\n",
       "    </tr>\n",
       "  </tbody>\n",
       "</table>\n",
       "<p>62570 rows × 3 columns</p>\n",
       "</div>"
      ],
      "text/plain": [
       "          dongxue_sequences  dongxue_pred  dongxue_exp\n",
       "0             GVIPPEVGNVAVR     50.072346       51.864\n",
       "1                 YPKEDSEIR     17.370090       18.743\n",
       "2                 WQPLYLEIR     67.801552       74.705\n",
       "3               AELAHSPLPAK     25.757629       25.874\n",
       "4                DGSDPYQEPK     16.412926       20.151\n",
       "...                     ...           ...          ...\n",
       "62565      ASITSSASLWHHCEHR     33.030495       26.392\n",
       "62566  QHLVEAETWAWGAGHGGQGR     42.248253       28.812\n",
       "62567     IYPTVNCQPLGMISLMK     82.551193       78.172\n",
       "62568      DGMSHLIQSAGLGGLK     57.229103       62.335\n",
       "62569           SGEVFDKDLCK     32.658768       28.386\n",
       "\n",
       "[62570 rows x 3 columns]"
      ]
     },
     "execution_count": 99,
     "metadata": {},
     "output_type": "execute_result"
    }
   ],
   "source": [
    "df"
   ]
  },
  {
   "cell_type": "code",
   "execution_count": 125,
   "id": "02060443",
   "metadata": {},
   "outputs": [],
   "source": [
    "error = np.abs(df[\"dongxue_pred\"]-df[\"dongxue_exp\"])"
   ]
  },
  {
   "cell_type": "code",
   "execution_count": 128,
   "id": "90f8e104",
   "metadata": {},
   "outputs": [
    {
     "data": {
      "text/plain": [
       "pandas.core.series.Series"
      ]
     },
     "execution_count": 128,
     "metadata": {},
     "output_type": "execute_result"
    }
   ],
   "source": [
    "type(error)"
   ]
  },
  {
   "cell_type": "code",
   "execution_count": 129,
   "id": "d5705a77",
   "metadata": {},
   "outputs": [],
   "source": [
    "df[\"abs_error\"] = error"
   ]
  },
  {
   "cell_type": "code",
   "execution_count": 131,
   "id": "9b4583c7",
   "metadata": {
    "collapsed": true
   },
   "outputs": [
    {
     "data": {
      "text/html": [
       "<div>\n",
       "<style scoped>\n",
       "    .dataframe tbody tr th:only-of-type {\n",
       "        vertical-align: middle;\n",
       "    }\n",
       "\n",
       "    .dataframe tbody tr th {\n",
       "        vertical-align: top;\n",
       "    }\n",
       "\n",
       "    .dataframe thead th {\n",
       "        text-align: right;\n",
       "    }\n",
       "</style>\n",
       "<table border=\"1\" class=\"dataframe\">\n",
       "  <thead>\n",
       "    <tr style=\"text-align: right;\">\n",
       "      <th></th>\n",
       "      <th>dongxue_sequences</th>\n",
       "      <th>dongxue_pred</th>\n",
       "      <th>dongxue_exp</th>\n",
       "      <th>abs_error</th>\n",
       "    </tr>\n",
       "  </thead>\n",
       "  <tbody>\n",
       "    <tr>\n",
       "      <th>0</th>\n",
       "      <td>GVIPPEVGNVAVR</td>\n",
       "      <td>50.072346</td>\n",
       "      <td>51.864</td>\n",
       "      <td>1.791654</td>\n",
       "    </tr>\n",
       "    <tr>\n",
       "      <th>1</th>\n",
       "      <td>YPKEDSEIR</td>\n",
       "      <td>17.370090</td>\n",
       "      <td>18.743</td>\n",
       "      <td>1.372910</td>\n",
       "    </tr>\n",
       "    <tr>\n",
       "      <th>2</th>\n",
       "      <td>WQPLYLEIR</td>\n",
       "      <td>67.801552</td>\n",
       "      <td>74.705</td>\n",
       "      <td>6.903448</td>\n",
       "    </tr>\n",
       "    <tr>\n",
       "      <th>3</th>\n",
       "      <td>AELAHSPLPAK</td>\n",
       "      <td>25.757629</td>\n",
       "      <td>25.874</td>\n",
       "      <td>0.116371</td>\n",
       "    </tr>\n",
       "    <tr>\n",
       "      <th>4</th>\n",
       "      <td>DGSDPYQEPK</td>\n",
       "      <td>16.412926</td>\n",
       "      <td>20.151</td>\n",
       "      <td>3.738074</td>\n",
       "    </tr>\n",
       "    <tr>\n",
       "      <th>...</th>\n",
       "      <td>...</td>\n",
       "      <td>...</td>\n",
       "      <td>...</td>\n",
       "      <td>...</td>\n",
       "    </tr>\n",
       "    <tr>\n",
       "      <th>62565</th>\n",
       "      <td>ASITSSASLWHHCEHR</td>\n",
       "      <td>33.030495</td>\n",
       "      <td>26.392</td>\n",
       "      <td>6.638495</td>\n",
       "    </tr>\n",
       "    <tr>\n",
       "      <th>62566</th>\n",
       "      <td>QHLVEAETWAWGAGHGGQGR</td>\n",
       "      <td>42.248253</td>\n",
       "      <td>28.812</td>\n",
       "      <td>13.436253</td>\n",
       "    </tr>\n",
       "    <tr>\n",
       "      <th>62567</th>\n",
       "      <td>IYPTVNCQPLGMISLMK</td>\n",
       "      <td>82.551193</td>\n",
       "      <td>78.172</td>\n",
       "      <td>4.379193</td>\n",
       "    </tr>\n",
       "    <tr>\n",
       "      <th>62568</th>\n",
       "      <td>DGMSHLIQSAGLGGLK</td>\n",
       "      <td>57.229103</td>\n",
       "      <td>62.335</td>\n",
       "      <td>5.105897</td>\n",
       "    </tr>\n",
       "    <tr>\n",
       "      <th>62569</th>\n",
       "      <td>SGEVFDKDLCK</td>\n",
       "      <td>32.658768</td>\n",
       "      <td>28.386</td>\n",
       "      <td>4.272768</td>\n",
       "    </tr>\n",
       "  </tbody>\n",
       "</table>\n",
       "<p>62570 rows × 4 columns</p>\n",
       "</div>"
      ],
      "text/plain": [
       "          dongxue_sequences  dongxue_pred  dongxue_exp  abs_error\n",
       "0             GVIPPEVGNVAVR     50.072346       51.864   1.791654\n",
       "1                 YPKEDSEIR     17.370090       18.743   1.372910\n",
       "2                 WQPLYLEIR     67.801552       74.705   6.903448\n",
       "3               AELAHSPLPAK     25.757629       25.874   0.116371\n",
       "4                DGSDPYQEPK     16.412926       20.151   3.738074\n",
       "...                     ...           ...          ...        ...\n",
       "62565      ASITSSASLWHHCEHR     33.030495       26.392   6.638495\n",
       "62566  QHLVEAETWAWGAGHGGQGR     42.248253       28.812  13.436253\n",
       "62567     IYPTVNCQPLGMISLMK     82.551193       78.172   4.379193\n",
       "62568      DGMSHLIQSAGLGGLK     57.229103       62.335   5.105897\n",
       "62569           SGEVFDKDLCK     32.658768       28.386   4.272768\n",
       "\n",
       "[62570 rows x 4 columns]"
      ]
     },
     "execution_count": 131,
     "metadata": {},
     "output_type": "execute_result"
    }
   ],
   "source": [
    "df"
   ]
  },
  {
   "cell_type": "code",
   "execution_count": 132,
   "id": "7aefcc4e",
   "metadata": {},
   "outputs": [],
   "source": [
    "sequences=df[\"dongxue_sequences\"]"
   ]
  },
  {
   "cell_type": "code",
   "execution_count": 133,
   "id": "f02f2124",
   "metadata": {},
   "outputs": [],
   "source": [
    "s=sequences.str.len()"
   ]
  },
  {
   "cell_type": "code",
   "execution_count": 134,
   "id": "e2c36bab",
   "metadata": {},
   "outputs": [],
   "source": [
    "df[\"seq_length\"] = s"
   ]
  },
  {
   "cell_type": "code",
   "execution_count": 138,
   "id": "d73248f7",
   "metadata": {},
   "outputs": [],
   "source": [
    "seq_length_sorted = df.sort_values([\"abs_error\"], ascending=True)"
   ]
  },
  {
   "cell_type": "code",
   "execution_count": 139,
   "id": "a21ee2df",
   "metadata": {},
   "outputs": [
    {
     "data": {
      "text/html": [
       "<div>\n",
       "<style scoped>\n",
       "    .dataframe tbody tr th:only-of-type {\n",
       "        vertical-align: middle;\n",
       "    }\n",
       "\n",
       "    .dataframe tbody tr th {\n",
       "        vertical-align: top;\n",
       "    }\n",
       "\n",
       "    .dataframe thead th {\n",
       "        text-align: right;\n",
       "    }\n",
       "</style>\n",
       "<table border=\"1\" class=\"dataframe\">\n",
       "  <thead>\n",
       "    <tr style=\"text-align: right;\">\n",
       "      <th></th>\n",
       "      <th>dongxue_sequences</th>\n",
       "      <th>dongxue_pred</th>\n",
       "      <th>dongxue_exp</th>\n",
       "      <th>abs_error</th>\n",
       "      <th>seq_length</th>\n",
       "    </tr>\n",
       "  </thead>\n",
       "  <tbody>\n",
       "    <tr>\n",
       "      <th>36359</th>\n",
       "      <td>APIDTPTQQLIQDIK</td>\n",
       "      <td>64.475624</td>\n",
       "      <td>64.476</td>\n",
       "      <td>0.000376</td>\n",
       "      <td>15</td>\n",
       "    </tr>\n",
       "    <tr>\n",
       "      <th>12724</th>\n",
       "      <td>TYYESVR</td>\n",
       "      <td>22.432371</td>\n",
       "      <td>22.433</td>\n",
       "      <td>0.000629</td>\n",
       "      <td>7</td>\n",
       "    </tr>\n",
       "    <tr>\n",
       "      <th>58556</th>\n",
       "      <td>ILSIPSEVEMQCTLR</td>\n",
       "      <td>67.568771</td>\n",
       "      <td>67.568</td>\n",
       "      <td>0.000771</td>\n",
       "      <td>15</td>\n",
       "    </tr>\n",
       "    <tr>\n",
       "      <th>41502</th>\n",
       "      <td>EQNLQDIK</td>\n",
       "      <td>21.968801</td>\n",
       "      <td>21.968</td>\n",
       "      <td>0.000801</td>\n",
       "      <td>8</td>\n",
       "    </tr>\n",
       "    <tr>\n",
       "      <th>50177</th>\n",
       "      <td>QLCEQAPSTSVLLLSPQPMGK</td>\n",
       "      <td>70.193665</td>\n",
       "      <td>70.195</td>\n",
       "      <td>0.001335</td>\n",
       "      <td>21</td>\n",
       "    </tr>\n",
       "    <tr>\n",
       "      <th>...</th>\n",
       "      <td>...</td>\n",
       "      <td>...</td>\n",
       "      <td>...</td>\n",
       "      <td>...</td>\n",
       "      <td>...</td>\n",
       "    </tr>\n",
       "    <tr>\n",
       "      <th>59610</th>\n",
       "      <td>RIHIGQKPRT</td>\n",
       "      <td>18.755457</td>\n",
       "      <td>105.520</td>\n",
       "      <td>86.764543</td>\n",
       "      <td>10</td>\n",
       "    </tr>\n",
       "    <tr>\n",
       "      <th>30662</th>\n",
       "      <td>SSACQKGAHPGWHSHENQDM</td>\n",
       "      <td>19.117769</td>\n",
       "      <td>106.130</td>\n",
       "      <td>87.012231</td>\n",
       "      <td>20</td>\n",
       "    </tr>\n",
       "    <tr>\n",
       "      <th>12684</th>\n",
       "      <td>VGNSAGQSLNKPNIHKR</td>\n",
       "      <td>17.730371</td>\n",
       "      <td>105.170</td>\n",
       "      <td>87.439629</td>\n",
       "      <td>17</td>\n",
       "    </tr>\n",
       "    <tr>\n",
       "      <th>4161</th>\n",
       "      <td>KMEDNRGCGCSSDTGK</td>\n",
       "      <td>14.489685</td>\n",
       "      <td>105.980</td>\n",
       "      <td>91.490315</td>\n",
       "      <td>16</td>\n",
       "    </tr>\n",
       "    <tr>\n",
       "      <th>41856</th>\n",
       "      <td>QCQEQRQCHCRQEATNATR</td>\n",
       "      <td>12.257618</td>\n",
       "      <td>106.960</td>\n",
       "      <td>94.702382</td>\n",
       "      <td>19</td>\n",
       "    </tr>\n",
       "  </tbody>\n",
       "</table>\n",
       "<p>62570 rows × 5 columns</p>\n",
       "</div>"
      ],
      "text/plain": [
       "           dongxue_sequences  dongxue_pred  dongxue_exp  abs_error  seq_length\n",
       "36359        APIDTPTQQLIQDIK     64.475624       64.476   0.000376          15\n",
       "12724                TYYESVR     22.432371       22.433   0.000629           7\n",
       "58556        ILSIPSEVEMQCTLR     67.568771       67.568   0.000771          15\n",
       "41502               EQNLQDIK     21.968801       21.968   0.000801           8\n",
       "50177  QLCEQAPSTSVLLLSPQPMGK     70.193665       70.195   0.001335          21\n",
       "...                      ...           ...          ...        ...         ...\n",
       "59610             RIHIGQKPRT     18.755457      105.520  86.764543          10\n",
       "30662   SSACQKGAHPGWHSHENQDM     19.117769      106.130  87.012231          20\n",
       "12684      VGNSAGQSLNKPNIHKR     17.730371      105.170  87.439629          17\n",
       "4161        KMEDNRGCGCSSDTGK     14.489685      105.980  91.490315          16\n",
       "41856    QCQEQRQCHCRQEATNATR     12.257618      106.960  94.702382          19\n",
       "\n",
       "[62570 rows x 5 columns]"
      ]
     },
     "execution_count": 139,
     "metadata": {},
     "output_type": "execute_result"
    }
   ],
   "source": [
    "seq_length_sorted"
   ]
  },
  {
   "cell_type": "markdown",
   "id": "0863c36b",
   "metadata": {},
   "source": [
    "### 3.d. Test with Original Data"
   ]
  },
  {
   "cell_type": "code",
   "execution_count": 67,
   "id": "737bb9a2",
   "metadata": {},
   "outputs": [],
   "source": [
    "TEST_DATAPATH = \"/scratch/train_ekin/new_holdout_data.csv\" # test with original ho set \n",
    "\n",
    "test_rtdata = RetentionTimeDataset(data_source = TEST_DATAPATH,\n",
    "                              pad_length=30, batch_size=64, test=True)\n",
    "\n",
    "\n",
    "TRAIN_DATAPATH = \"/scratch/train_ekin/new_train_data.csv\" # for denormalizing the test_targets\n",
    "\n",
    "rtdata = RetentionTimeDataset(data_source=TRAIN_DATAPATH,\n",
    "                              pad_length=SEQ_LENGTH, batch_size=1024, val_ratio=0.25, test=False, sample_run=False)\n"
   ]
  },
  {
   "cell_type": "code",
   "execution_count": null,
   "id": "104689dd",
   "metadata": {},
   "outputs": [],
   "source": []
  },
  {
   "cell_type": "code",
   "execution_count": 68,
   "id": "c45908fa",
   "metadata": {},
   "outputs": [],
   "source": [
    "tl_predictions = tl_model.predict(test_rtdata.test_data)"
   ]
  },
  {
   "cell_type": "code",
   "execution_count": 69,
   "id": "c41e32e6",
   "metadata": {},
   "outputs": [],
   "source": [
    "tl_predictions = tl_predictions.ravel()"
   ]
  },
  {
   "cell_type": "code",
   "execution_count": 70,
   "id": "0f03436d",
   "metadata": {},
   "outputs": [],
   "source": [
    "tl_predictions = rtdata.denormalize_targets(tl_predictions)"
   ]
  },
  {
   "cell_type": "code",
   "execution_count": 71,
   "id": "cf82fd62",
   "metadata": {},
   "outputs": [
    {
     "data": {
      "text/plain": [
       "array([80.59841 , 35.222836, 90.584145, ..., 29.106403, 65.46553 ,\n",
       "       78.1072  ], dtype=float32)"
      ]
     },
     "execution_count": 71,
     "metadata": {},
     "output_type": "execute_result"
    }
   ],
   "source": [
    "tl_predictions"
   ]
  },
  {
   "cell_type": "code",
   "execution_count": 72,
   "id": "13601c79",
   "metadata": {},
   "outputs": [],
   "source": [
    "test_targets = test_rtdata.get_split_targets(split=\"test\")"
   ]
  },
  {
   "cell_type": "code",
   "execution_count": 73,
   "id": "9edf8c74",
   "metadata": {},
   "outputs": [
    {
     "data": {
      "text/plain": [
       "array([106.85361792,  53.66648129, 111.97376267, ...,  43.88259566,\n",
       "        81.972167  , 110.08648948])"
      ]
     },
     "execution_count": 73,
     "metadata": {},
     "output_type": "execute_result"
    }
   ],
   "source": [
    "test_targets"
   ]
  },
  {
   "cell_type": "code",
   "execution_count": 74,
   "id": "b1ec964e",
   "metadata": {},
   "outputs": [
    {
     "data": {
      "image/png": "[encoded data removed]",
      "text/plain": [
       "<Figure size 504x720 with 2 Axes>"
      ]
     },
     "metadata": {
      "needs_background": "light"
     },
     "output_type": "display_data"
    }
   ],
   "source": [
    "density_plot(tl_predictions, test_targets, header = \"Transfer Learning Model Test with Original Holdout\\n(sequential_1 layer only)\")"
   ]
  },
  {
   "cell_type": "code",
   "execution_count": null,
   "id": "c1d2c921",
   "metadata": {},
   "outputs": [],
   "source": []
  },
  {
   "cell_type": "code",
   "execution_count": null,
   "id": "2b83a927",
   "metadata": {},
   "outputs": [],
   "source": []
  }
 ],
 "metadata": {
  "kernelspec": {
   "display_name": "Python 3",
   "language": "python",
   "name": "python3"
  },
  "language_info": {
   "codemirror_mode": {
    "name": "ipython",
    "version": 3
   },
   "file_extension": ".py",
   "mimetype": "text/x-python",
   "name": "python",
   "nbconvert_exporter": "python",
   "pygments_lexer": "ipython3",
   "version": "3.7.10"
  }
 },
 "nbformat": 4,
 "nbformat_minor": 5
}
